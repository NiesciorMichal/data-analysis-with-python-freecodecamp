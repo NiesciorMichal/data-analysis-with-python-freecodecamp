{
 "cells": [
  {
   "cell_type": "markdown",
   "metadata": {},
   "source": [
    "# Setup"
   ]
  },
  {
   "cell_type": "markdown",
   "metadata": {},
   "source": [
    "Import Pandas.\n",
    "Read the csv file 'adult.data.csv'"
   ]
  },
  {
   "cell_type": "code",
   "execution_count": null,
   "metadata": {},
   "outputs": [],
   "source": [
    "import pandas as pd\n",
    "df = pd.read_csv('adult.data.csv')\n",
    "total_rows = df.shape[0]\n",
    "df.describe()"
   ]
  },
  {
   "cell_type": "markdown",
   "metadata": {},
   "source": [
    "# Figure out the riches"
   ]
  },
  {
   "cell_type": "markdown",
   "metadata": {},
   "source": [
    "with and without `Bachelors`, `Masters`, or `Doctorate`"
   ]
  },
  {
   "cell_type": "code",
   "execution_count": 1,
   "metadata": {},
   "outputs": [],
   "source": [
    "higher_education_levels = ['Bachelors', 'Masters', 'Doctorate']"
   ]
  },
  {
   "cell_type": "markdown",
   "metadata": {},
   "source": [
    "Higher education mask to find rows with higher_education_levels"
   ]
  },
  {
   "cell_type": "code",
   "execution_count": 11,
   "metadata": {},
   "outputs": [
    {
     "name": "stdout",
     "output_type": "stream",
     "text": [
      "There are 7491 higher educated ppl in this db.\n"
     ]
    }
   ],
   "source": [
    "higher_education_mask = df['education'].isin(higher_education_levels)\n",
    "how_many_higher_educated = len(df[higher_education_mask])\n",
    "print(f\"There are {how_many_higher_educated} higher educated ppl in this db.\")"
   ]
  },
  {
   "cell_type": "markdown",
   "metadata": {},
   "source": [
    "High income mask to find rows with salary greater than 50k"
   ]
  },
  {
   "cell_type": "code",
   "execution_count": 13,
   "metadata": {},
   "outputs": [
    {
     "name": "stdout",
     "output_type": "stream",
     "text": [
      "There are a total of 7841 riches.\n"
     ]
    }
   ],
   "source": [
    "high_income_mask = df['salary'] == '>50K'\n",
    "how_many_riches = len(df[high_income_mask])\n",
    "print(f\"There are a total of {how_many_riches} riches.\")"
   ]
  },
  {
   "cell_type": "markdown",
   "metadata": {},
   "source": [
    "Joining both conditions:"
   ]
  },
  {
   "cell_type": "code",
   "execution_count": 21,
   "metadata": {},
   "outputs": [
    {
     "name": "stdout",
     "output_type": "stream",
     "text": [
      "There are 3486 higher educated riches.\n",
      "Which is 10.7% of the total population in this db.\n",
      "Among higher educated ppl, there is 46.5% are wealthy.\n"
     ]
    }
   ],
   "source": [
    "higher_education_high_income_count = len(df[higher_education_mask & high_income_mask])\n",
    "#df[higher_education_mask & high_income_mask]['education'].value_counts()\n",
    "print(f\"There are {higher_education_high_income_count} higher educated riches.\")\n",
    "higher_education_high_income_percent_total = (higher_education_high_income_count / total_rows) * 100\n",
    "higher_education_total = round(higher_education_high_income_percent_total, 1)\n",
    "print(f\"Which is {higher_education_total}% of the total population in this db.\")\n",
    "higher_education_rich = (higher_education_high_income_count / how_many_higher_educated) * 100\n",
    "higher_education_rich = round(higher_education_rich, 1)\n",
    "print(f\"Among higher educated ppl, there is {higher_education_rich}% are wealthy.\")"
   ]
  },
  {
   "cell_type": "markdown",
   "metadata": {},
   "source": [
    "Lower educated riches."
   ]
  },
  {
   "cell_type": "code",
   "execution_count": 30,
   "metadata": {},
   "outputs": [
    {
     "name": "stdout",
     "output_type": "stream",
     "text": [
      "There are 25070 lower educated ppl in this db.\n",
      "\n",
      "Education Level       Count\n",
      "--------------------------------\n",
      "HS-grad                10501\n",
      "Some-college           7291\n",
      "Assoc-voc              1382\n",
      "11th                   1175\n",
      "Assoc-acdm             1067\n",
      "10th                   933\n",
      "7th-8th                646\n",
      "Prof-school            576\n",
      "9th                    514\n",
      "12th                   433\n",
      "5th-6th                333\n",
      "1st-4th                168\n",
      "Preschool              51\n"
     ]
    }
   ],
   "source": [
    "lower_education_mask = ~higher_education_mask\n",
    "how_many_lower_educated = len(df[lower_education_mask])\n",
    "print(f\"There are {how_many_lower_educated} lower educated ppl in this db.\\n\")\n",
    "lower_educated_counts = df[lower_education_mask]['education'].value_counts()\n",
    "max_len = max(len(education) for education in lower_educated_counts.index)\n",
    "print(\"Education Level\".ljust(max_len + 10) + \"Count\")\n",
    "print(\"-\" * (max_len + 20))\n",
    "for education, count in lower_educated_counts.items():\n",
    "    print(f'{education.ljust(max_len + 10)} {count}')"
   ]
  },
  {
   "cell_type": "markdown",
   "metadata": {},
   "source": [
    "Join both conditions: `lower educated` and rich `salary >50k` to get number of riches among lower educated."
   ]
  },
  {
   "cell_type": "code",
   "execution_count": 37,
   "metadata": {},
   "outputs": [
    {
     "name": "stdout",
     "output_type": "stream",
     "text": [
      "There are 4355 lower educated riches.\n",
      "Which is 13.4% of the total population in this db.\n",
      "\n",
      "Which means there is more lower educated riches :-)\n",
      "PS. The database consists in 77.0% of lower educated\n",
      "\n",
      "Among lower educated ppl, 17.4% are wealthy.\n"
     ]
    }
   ],
   "source": [
    "lower_education_high_income_count = len(df[lower_education_mask & high_income_mask])\n",
    "print(f\"There are {lower_education_high_income_count} lower educated riches.\")\n",
    "lower_education_high_income_percent = (lower_education_high_income_count / total_rows) * 100\n",
    "lower_education_total = round(lower_education_high_income_percent, 1)\n",
    "print(f\"Which is {lower_education_total}% of the total population in this db.\")\n",
    "if lower_education_total > higher_education_total:\n",
    "    print(\"\\nWhich means there is more lower educated riches :-)\")\n",
    "    print(f\"PS. The database consists in {round(how_many_lower_educated/total_rows*100,1)}% of lower educated\")\n",
    "else:\n",
    "    print(\"\\nEducation = money\")\n",
    "\n",
    "lower_education_rich = round((lower_education_high_income_count / how_many_lower_educated) * 100, 1)\n",
    "print(f\"\\nAmong lower educated ppl, {lower_education_rich}% are wealthy.\")"
   ]
  },
  {
   "cell_type": "markdown",
   "metadata": {},
   "source": [
    "Compare the groups"
   ]
  },
  {
   "cell_type": "code",
   "execution_count": 44,
   "metadata": {},
   "outputs": [
    {
     "name": "stdout",
     "output_type": "stream",
     "text": [
      "Let's review the statistics in both groups:\n",
      "\n",
      "For 25070 lower educated which is 77.0% of the whole database\n",
      "there is 17.4% who are wealthy.\n",
      "\n",
      "For 7491 higher educated which is 23.0% of the whole database\n",
      "there is 46.5% who are wealthy.\n",
      "\n",
      "Surely you should prefer to learn.\n"
     ]
    }
   ],
   "source": [
    "print(\"Let's review the statistics in both groups:\\n\")\n",
    "print(f\"\"\"For {how_many_lower_educated} lower educated which is {round(how_many_lower_educated/total_rows*100,1)}% of the whole database\n",
    "there is {lower_education_rich}% who are wealthy.\n",
    "\"\"\")\n",
    "print(f\"\"\"For {how_many_higher_educated} higher educated which is {round(how_many_higher_educated/total_rows*100,1)}% of the whole database\n",
    "there is {higher_education_rich}% who are wealthy.\n",
    "\"\"\")\n",
    "if lower_education_rich > higher_education_rich:  \n",
    "    print(\"It doesn't pay to learn.\")\n",
    "else:\n",
    "    print(\"Surely you should prefer to learn.\")"
   ]
  },
  {
   "cell_type": "markdown",
   "metadata": {},
   "source": [
    "# Hours per week questions"
   ]
  },
  {
   "cell_type": "markdown",
   "metadata": {},
   "source": [
    "What is the minimum number of hours a person works per week (hours-per-week feature)?"
   ]
  },
  {
   "cell_type": "code",
   "execution_count": 62,
   "metadata": {},
   "outputs": [
    {
     "name": "stdout",
     "output_type": "stream",
     "text": [
      "Minimum of hours per week: 1\n",
      "Lame\n"
     ]
    }
   ],
   "source": [
    "min_work_hours = df['hours-per-week'].min()\n",
    "print(f\"Minimum of hours per week: {min_work_hours}\")\n",
    "print(\"Lame\")"
   ]
  },
  {
   "cell_type": "markdown",
   "metadata": {},
   "source": [
    "Let's check the opposite"
   ]
  },
  {
   "cell_type": "code",
   "execution_count": 60,
   "metadata": {},
   "outputs": [
    {
     "name": "stdout",
     "output_type": "stream",
     "text": [
      "Maximum of hours per week: 99.\n",
      "And the workaholic title goes to ...\n",
      "37 years old White Male\n",
      "proud Husband who works as Craft-repair\n",
      "graduated: HS-grad\n",
      "\n"
     ]
    }
   ],
   "source": [
    "print(f\"Maximum of hours per week: {df['hours-per-week'].max()}.\")\n",
    "workaholic_info = df.iloc[df['hours-per-week'].idxmax()]\n",
    "print(\"And the workaholic title goes to ...\")\n",
    "print(f\"\"\"{workaholic_info['age']} years old {workaholic_info['race']} {workaholic_info['sex']}\n",
    "proud {workaholic_info['relationship']} who works as {workaholic_info['occupation']}\n",
    "graduated: {workaholic_info['education']}\n",
    "\"\"\")"
   ]
  },
  {
   "cell_type": "markdown",
   "metadata": {},
   "source": [
    "What percentage of the people who work the minimum number of hours per week have a salary of >50K?"
   ]
  },
  {
   "cell_type": "code",
   "execution_count": 87,
   "metadata": {},
   "outputs": [
    {
     "name": "stdout",
     "output_type": "stream",
     "text": [
      "20 ppl are working 1 per week.\n",
      "2 people that are working 1h per week are making >50k$\n",
      "That means 10.0% among the minimalists\n",
      "That means 0.006142317496391388% of the whole database. Pretty rare.\n"
     ]
    }
   ],
   "source": [
    "min_hours_workers = df[df['hours-per-week'] == min_work_hours]\n",
    "print(f\"{len(min_hours_workers)} ppl are working {min_work_hours} per week.\")\n",
    "min_hours_high_income_workers = df[(df['hours-per-week'] == min_work_hours) & high_income_mask]\n",
    "num_min_workers = round(len(min_hours_high_income_workers)/len(min_hours_workers) * 100, 1)\n",
    "print(f\"{len(min_hours_high_income_workers)} people that are working {min_work_hours}h per week are making >50k$\")\n",
    "print(f\"That means {num_min_workers}% among the minimalists\")\n",
    "num_min_workers_total = len(min_hours_high_income_workers)/total_rows * 100\n",
    "print(f\"That means {num_min_workers_total}% of the whole database. Pretty rare.\")"
   ]
  },
  {
   "cell_type": "markdown",
   "metadata": {},
   "source": [
    "# Country wealth questions"
   ]
  },
  {
   "cell_type": "markdown",
   "metadata": {},
   "source": [
    "What country has the highest percentage of people that earn >50K?"
   ]
  },
  {
   "cell_type": "code",
   "execution_count": 134,
   "metadata": {},
   "outputs": [
    {
     "name": "stdout",
     "output_type": "stream",
     "text": [
      "Country with the greatest percentage of people making more than 50k: Iran\n",
      "Highest percentage of people making more than 50k: 41.86046511627907\n"
     ]
    }
   ],
   "source": [
    "# Select only the columns of interest\n",
    "selection = df[['native-country', 'salary']]\n",
    "\n",
    "# Count total population per country\n",
    "total_population_counts = selection.groupby('native-country').size().reset_index(name='total_population')\n",
    "\n",
    "# Count high-income population per country\n",
    "high_income_counts = selection[selection['salary'] == '>50K'].groupby('native-country').size().reset_index(name='high_income_count')\n",
    "\n",
    "# Merge total population and high-income counts\n",
    "merged_data = pd.merge(total_population_counts, high_income_counts, on='native-country', how='left')\n",
    "\n",
    "# Calculate the percentage of high-income individuals per country\n",
    "merged_data['percentage_high_income'] = (merged_data['high_income_count'] / merged_data['total_population']) * 100\n",
    "\n",
    "# Find the country with the highest percentage of high-income individuals\n",
    "country_with_max_percentage = merged_data.loc[merged_data['percentage_high_income'].idxmax(), 'native-country']\n",
    "\n",
    "print(\"Country with the greatest percentage of people making more than 50k:\", country_with_max_percentage)\n",
    "\n",
    "# Get the highest percentage\n",
    "highest_percentage = merged_data['percentage_high_income'].max()\n",
    "\n",
    "print(\"Highest percentage of people making more than 50k:\", highest_percentage)"
   ]
  },
  {
   "cell_type": "markdown",
   "metadata": {},
   "source": [
    "# Identify the most popular occupation for those who earn >50K in India."
   ]
  },
  {
   "cell_type": "code",
   "execution_count": 136,
   "metadata": {},
   "outputs": [
    {
     "name": "stdout",
     "output_type": "stream",
     "text": [
      "Most popular occupation for those who earn >50K in India: Prof-specialty\n"
     ]
    }
   ],
   "source": [
    "# Filter the DataFrame for individuals earning more than 50K in India\n",
    "high_income_india = df[high_income_mask & (df['native-country'] == 'India')]\n",
    "\n",
    "# Count the occurrences of each occupation\n",
    "occupation_counts = high_income_india['occupation'].value_counts()\n",
    "\n",
    "# Identify the most popular occupation\n",
    "most_popular_occupation = occupation_counts.idxmax()\n",
    "\n",
    "print(\"Most popular occupation for those who earn >50K in India:\", most_popular_occupation)\n"
   ]
  }
 ],
 "metadata": {
  "kernelspec": {
   "display_name": "Python 3",
   "language": "python",
   "name": "python3"
  },
  "language_info": {
   "codemirror_mode": {
    "name": "ipython",
    "version": 3
   },
   "file_extension": ".py",
   "mimetype": "text/x-python",
   "name": "python",
   "nbconvert_exporter": "python",
   "pygments_lexer": "ipython3",
   "version": "3.10.12"
  }
 },
 "nbformat": 4,
 "nbformat_minor": 2
}
